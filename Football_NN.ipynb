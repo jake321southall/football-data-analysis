{
  "nbformat": 4,
  "nbformat_minor": 0,
  "metadata": {
    "colab": {
      "provenance": [],
      "authorship_tag": "ABX9TyNP0aqhqRn3WHiTsOqsL9DR",
      "include_colab_link": true
    },
    "kernelspec": {
      "name": "python3",
      "display_name": "Python 3"
    },
    "language_info": {
      "name": "python"
    },
    "accelerator": "GPU",
    "gpuClass": "standard"
  },
  "cells": [
    {
      "cell_type": "markdown",
      "metadata": {
        "id": "view-in-github",
        "colab_type": "text"
      },
      "source": [
        "<a href=\"https://colab.research.google.com/github/jake321southall/football-data-analysis/blob/main/Football_NN.ipynb\" target=\"_parent\"><img src=\"https://colab.research.google.com/assets/colab-badge.svg\" alt=\"Open In Colab\"/></a>"
      ]
    },
    {
      "cell_type": "code",
      "execution_count": 152,
      "metadata": {
        "id": "f6BlH6SSgSKF"
      },
      "outputs": [],
      "source": [
        "import pandas as pd\n",
        "import matplotlib.pyplot as plt\n",
        "import seaborn as sns\n",
        "import numpy as np\n",
        "from sklearn.preprocessing import StandardScaler\n",
        "from sklearn.linear_model import LogisticRegressionCV, LinearRegression\n",
        "from sklearn.model_selection import train_test_split\n",
        "from pandas.api.types import is_numeric_dtype\n",
        "\n",
        "import tensorflow as tf\n",
        "from tensorflow\timport keras\n",
        "\n",
        "url = \"https://raw.githubusercontent.com/tara-nguyen/english-premier-league-datasets-for-10-seasons/main/epldat10seasons/epl-allseasons-matchstats.csv\"\n",
        "df = pd.read_csv(url)\n"
      ]
    },
    {
      "cell_type": "code",
      "source": [
        "#Let's drop the columns we won't use\n",
        "df.drop(columns = ['Referee', 'HomeTeam', 'AwayTeam'], inplace=True)\n",
        "df = pd.get_dummies(df, columns = ['FullTime'])\n",
        "df_num = df.drop(columns = ['Season', 'Date', 'Halftime'])\n",
        "df_homewin = df_num.drop(columns = ['HomeGoals', 'AwayGoals', 'FullTime_Draw', 'FullTime_AwayWin'])"
      ],
      "metadata": {
        "id": "10r2YkpGhLRq"
      },
      "execution_count": 153,
      "outputs": []
    },
    {
      "cell_type": "code",
      "source": [
        "print(df_homewin.shape)\n",
        "df_homewin.head()"
      ],
      "metadata": {
        "colab": {
          "base_uri": "https://localhost:8080/",
          "height": 288
        },
        "id": "RD5q_3XKnRY-",
        "outputId": "5a91c158-58b2-458c-c3ae-e5b5bdc6b282"
      },
      "execution_count": 154,
      "outputs": [
        {
          "output_type": "stream",
          "name": "stdout",
          "text": [
            "(3800, 15)\n"
          ]
        },
        {
          "output_type": "execute_result",
          "data": {
            "text/plain": [
              "   HomeGoalsHalftime  HomeShots  HomeShotsOnTarget  HomeCorners  HomeFouls  \\\n",
              "0                  2         23                 11           16         15   \n",
              "1                  1          7                  2            1         19   \n",
              "2                  0         13                  9            4         12   \n",
              "3                  2         18                 13            3         10   \n",
              "4                  1          6                  2            3         13   \n",
              "\n",
              "   HomeYellowCards  HomeRedCards  AwayGoalsHalftime  AwayShots  \\\n",
              "0                1             0                  0         12   \n",
              "1                2             0                  0         17   \n",
              "2                1             0                  0         12   \n",
              "3                1             0                  0         10   \n",
              "4                3             1                  0         13   \n",
              "\n",
              "   AwayShotsOnTarget  AwayCorners  AwayFouls  AwayYellowCards  AwayRedCards  \\\n",
              "0                  2            7         15                2             0   \n",
              "1                 12            3         14                1             0   \n",
              "2                  7            8         13                3             0   \n",
              "3                  4            1         10                0             0   \n",
              "4                  7            6         10                3             0   \n",
              "\n",
              "   FullTime_HomeWin  \n",
              "0                 1  \n",
              "1                 1  \n",
              "2                 0  \n",
              "3                 1  \n",
              "4                 0  "
            ],
            "text/html": [
              "\n",
              "  <div id=\"df-fff5cd7c-2794-45cb-97b6-00519ccbacb4\">\n",
              "    <div class=\"colab-df-container\">\n",
              "      <div>\n",
              "<style scoped>\n",
              "    .dataframe tbody tr th:only-of-type {\n",
              "        vertical-align: middle;\n",
              "    }\n",
              "\n",
              "    .dataframe tbody tr th {\n",
              "        vertical-align: top;\n",
              "    }\n",
              "\n",
              "    .dataframe thead th {\n",
              "        text-align: right;\n",
              "    }\n",
              "</style>\n",
              "<table border=\"1\" class=\"dataframe\">\n",
              "  <thead>\n",
              "    <tr style=\"text-align: right;\">\n",
              "      <th></th>\n",
              "      <th>HomeGoalsHalftime</th>\n",
              "      <th>HomeShots</th>\n",
              "      <th>HomeShotsOnTarget</th>\n",
              "      <th>HomeCorners</th>\n",
              "      <th>HomeFouls</th>\n",
              "      <th>HomeYellowCards</th>\n",
              "      <th>HomeRedCards</th>\n",
              "      <th>AwayGoalsHalftime</th>\n",
              "      <th>AwayShots</th>\n",
              "      <th>AwayShotsOnTarget</th>\n",
              "      <th>AwayCorners</th>\n",
              "      <th>AwayFouls</th>\n",
              "      <th>AwayYellowCards</th>\n",
              "      <th>AwayRedCards</th>\n",
              "      <th>FullTime_HomeWin</th>\n",
              "    </tr>\n",
              "  </thead>\n",
              "  <tbody>\n",
              "    <tr>\n",
              "      <th>0</th>\n",
              "      <td>2</td>\n",
              "      <td>23</td>\n",
              "      <td>11</td>\n",
              "      <td>16</td>\n",
              "      <td>15</td>\n",
              "      <td>1</td>\n",
              "      <td>0</td>\n",
              "      <td>0</td>\n",
              "      <td>12</td>\n",
              "      <td>2</td>\n",
              "      <td>7</td>\n",
              "      <td>15</td>\n",
              "      <td>2</td>\n",
              "      <td>0</td>\n",
              "      <td>1</td>\n",
              "    </tr>\n",
              "    <tr>\n",
              "      <th>1</th>\n",
              "      <td>1</td>\n",
              "      <td>7</td>\n",
              "      <td>2</td>\n",
              "      <td>1</td>\n",
              "      <td>19</td>\n",
              "      <td>2</td>\n",
              "      <td>0</td>\n",
              "      <td>0</td>\n",
              "      <td>17</td>\n",
              "      <td>12</td>\n",
              "      <td>3</td>\n",
              "      <td>14</td>\n",
              "      <td>1</td>\n",
              "      <td>0</td>\n",
              "      <td>1</td>\n",
              "    </tr>\n",
              "    <tr>\n",
              "      <th>2</th>\n",
              "      <td>0</td>\n",
              "      <td>13</td>\n",
              "      <td>9</td>\n",
              "      <td>4</td>\n",
              "      <td>12</td>\n",
              "      <td>1</td>\n",
              "      <td>0</td>\n",
              "      <td>0</td>\n",
              "      <td>12</td>\n",
              "      <td>7</td>\n",
              "      <td>8</td>\n",
              "      <td>13</td>\n",
              "      <td>3</td>\n",
              "      <td>0</td>\n",
              "      <td>0</td>\n",
              "    </tr>\n",
              "    <tr>\n",
              "      <th>3</th>\n",
              "      <td>2</td>\n",
              "      <td>18</td>\n",
              "      <td>13</td>\n",
              "      <td>3</td>\n",
              "      <td>10</td>\n",
              "      <td>1</td>\n",
              "      <td>0</td>\n",
              "      <td>0</td>\n",
              "      <td>10</td>\n",
              "      <td>4</td>\n",
              "      <td>1</td>\n",
              "      <td>10</td>\n",
              "      <td>0</td>\n",
              "      <td>0</td>\n",
              "      <td>1</td>\n",
              "    </tr>\n",
              "    <tr>\n",
              "      <th>4</th>\n",
              "      <td>1</td>\n",
              "      <td>6</td>\n",
              "      <td>2</td>\n",
              "      <td>3</td>\n",
              "      <td>13</td>\n",
              "      <td>3</td>\n",
              "      <td>1</td>\n",
              "      <td>0</td>\n",
              "      <td>13</td>\n",
              "      <td>7</td>\n",
              "      <td>6</td>\n",
              "      <td>10</td>\n",
              "      <td>3</td>\n",
              "      <td>0</td>\n",
              "      <td>0</td>\n",
              "    </tr>\n",
              "  </tbody>\n",
              "</table>\n",
              "</div>\n",
              "      <button class=\"colab-df-convert\" onclick=\"convertToInteractive('df-fff5cd7c-2794-45cb-97b6-00519ccbacb4')\"\n",
              "              title=\"Convert this dataframe to an interactive table.\"\n",
              "              style=\"display:none;\">\n",
              "        \n",
              "  <svg xmlns=\"http://www.w3.org/2000/svg\" height=\"24px\"viewBox=\"0 0 24 24\"\n",
              "       width=\"24px\">\n",
              "    <path d=\"M0 0h24v24H0V0z\" fill=\"none\"/>\n",
              "    <path d=\"M18.56 5.44l.94 2.06.94-2.06 2.06-.94-2.06-.94-.94-2.06-.94 2.06-2.06.94zm-11 1L8.5 8.5l.94-2.06 2.06-.94-2.06-.94L8.5 2.5l-.94 2.06-2.06.94zm10 10l.94 2.06.94-2.06 2.06-.94-2.06-.94-.94-2.06-.94 2.06-2.06.94z\"/><path d=\"M17.41 7.96l-1.37-1.37c-.4-.4-.92-.59-1.43-.59-.52 0-1.04.2-1.43.59L10.3 9.45l-7.72 7.72c-.78.78-.78 2.05 0 2.83L4 21.41c.39.39.9.59 1.41.59.51 0 1.02-.2 1.41-.59l7.78-7.78 2.81-2.81c.8-.78.8-2.07 0-2.86zM5.41 20L4 18.59l7.72-7.72 1.47 1.35L5.41 20z\"/>\n",
              "  </svg>\n",
              "      </button>\n",
              "      \n",
              "  <style>\n",
              "    .colab-df-container {\n",
              "      display:flex;\n",
              "      flex-wrap:wrap;\n",
              "      gap: 12px;\n",
              "    }\n",
              "\n",
              "    .colab-df-convert {\n",
              "      background-color: #E8F0FE;\n",
              "      border: none;\n",
              "      border-radius: 50%;\n",
              "      cursor: pointer;\n",
              "      display: none;\n",
              "      fill: #1967D2;\n",
              "      height: 32px;\n",
              "      padding: 0 0 0 0;\n",
              "      width: 32px;\n",
              "    }\n",
              "\n",
              "    .colab-df-convert:hover {\n",
              "      background-color: #E2EBFA;\n",
              "      box-shadow: 0px 1px 2px rgba(60, 64, 67, 0.3), 0px 1px 3px 1px rgba(60, 64, 67, 0.15);\n",
              "      fill: #174EA6;\n",
              "    }\n",
              "\n",
              "    [theme=dark] .colab-df-convert {\n",
              "      background-color: #3B4455;\n",
              "      fill: #D2E3FC;\n",
              "    }\n",
              "\n",
              "    [theme=dark] .colab-df-convert:hover {\n",
              "      background-color: #434B5C;\n",
              "      box-shadow: 0px 1px 3px 1px rgba(0, 0, 0, 0.15);\n",
              "      filter: drop-shadow(0px 1px 2px rgba(0, 0, 0, 0.3));\n",
              "      fill: #FFFFFF;\n",
              "    }\n",
              "  </style>\n",
              "\n",
              "      <script>\n",
              "        const buttonEl =\n",
              "          document.querySelector('#df-fff5cd7c-2794-45cb-97b6-00519ccbacb4 button.colab-df-convert');\n",
              "        buttonEl.style.display =\n",
              "          google.colab.kernel.accessAllowed ? 'block' : 'none';\n",
              "\n",
              "        async function convertToInteractive(key) {\n",
              "          const element = document.querySelector('#df-fff5cd7c-2794-45cb-97b6-00519ccbacb4');\n",
              "          const dataTable =\n",
              "            await google.colab.kernel.invokeFunction('convertToInteractive',\n",
              "                                                     [key], {});\n",
              "          if (!dataTable) return;\n",
              "\n",
              "          const docLinkHtml = 'Like what you see? Visit the ' +\n",
              "            '<a target=\"_blank\" href=https://colab.research.google.com/notebooks/data_table.ipynb>data table notebook</a>'\n",
              "            + ' to learn more about interactive tables.';\n",
              "          element.innerHTML = '';\n",
              "          dataTable['output_type'] = 'display_data';\n",
              "          await google.colab.output.renderOutput(dataTable, element);\n",
              "          const docLink = document.createElement('div');\n",
              "          docLink.innerHTML = docLinkHtml;\n",
              "          element.appendChild(docLink);\n",
              "        }\n",
              "      </script>\n",
              "    </div>\n",
              "  </div>\n",
              "  "
            ]
          },
          "metadata": {},
          "execution_count": 154
        }
      ]
    },
    {
      "cell_type": "code",
      "source": [
        "X = df_homewin.iloc[:, 0:14]\n",
        "y = df_homewin.iloc[:,-1]"
      ],
      "metadata": {
        "id": "B9udmPJQnXAi"
      },
      "execution_count": 155,
      "outputs": []
    },
    {
      "cell_type": "code",
      "source": [
        "X_train, X_test, y_train, y_test = train_test_split(X, y, test_size=0.2, random_state = 0)"
      ],
      "metadata": {
        "id": "r-64hW1drEUO"
      },
      "execution_count": 156,
      "outputs": []
    },
    {
      "cell_type": "code",
      "source": [
        "sc = StandardScaler()\n",
        "X_train_scaled = sc.fit_transform(X_train)\n",
        "X_test_scaled = sc.transform(X_test)\n",
        "\n",
        "y_train = y_train.to_numpy()\n",
        "y_test = y_test.to_numpy()\n"
      ],
      "metadata": {
        "id": "iF3lKvHqriC8"
      },
      "execution_count": 157,
      "outputs": []
    },
    {
      "cell_type": "code",
      "source": [
        "#Creating a function to design the initial model with no regularisation\n",
        "\n",
        "def build_model():\n",
        "  model = keras.Sequential([\n",
        "      keras.layers.Dense(16, activation='relu'),\n",
        "      keras.layers.Dense(16, activation='relu'), \n",
        "      keras.layers.Dense(1, activation='sigmoid')\n",
        "  ])\n",
        "  model.compile(optimizer='rmsprop', loss='binary_crossentropy', metrics=['accuracy'])\n",
        "  return model"
      ],
      "metadata": {
        "id": "ePQJH_XTr5dy"
      },
      "execution_count": 158,
      "outputs": []
    },
    {
      "cell_type": "code",
      "source": [
        "my_model = build_model()\n",
        "history_init = my_model.fit(X_train_scaled, y_train, epochs=200, batch_size=256, validation_split=0.2, verbose=0)\n",
        "history_init_dict = history_init.history"
      ],
      "metadata": {
        "id": "FlCY5kXO5Gg8"
      },
      "execution_count": 159,
      "outputs": []
    },
    {
      "cell_type": "code",
      "source": [
        "len(X_train_scaled)/5"
      ],
      "metadata": {
        "colab": {
          "base_uri": "https://localhost:8080/"
        },
        "id": "Cx9m-q-Lqaiu",
        "outputId": "074a8b9b-f0f7-4ba2-b243-44242171c561"
      },
      "execution_count": 160,
      "outputs": [
        {
          "output_type": "execute_result",
          "data": {
            "text/plain": [
              "608.0"
            ]
          },
          "metadata": {},
          "execution_count": 160
        }
      ]
    },
    {
      "cell_type": "code",
      "source": [
        "#Plotting training accuracy vs validation accuracy\n",
        "\n",
        "init_training_acc_values = history_init_dict['accuracy']\n",
        "init_val_acc_values = history_init_dict['val_accuracy']\n",
        "epochs = range(1, len(init_training_acc_values)+1)\n",
        "plt.plot(epochs, init_training_acc_values, label='Training accuracy')\n",
        "plt.plot(epochs, init_val_acc_values, label='Validation accuracy')\n",
        "plt.title('Training accuracy vs validation accuracy')\n",
        "plt.xlabel('Epochs')\n",
        "plt.ylabel('Accuracy')\n",
        "plt.legend()\n",
        "plt.show()"
      ],
      "metadata": {
        "colab": {
          "base_uri": "https://localhost:8080/",
          "height": 295
        },
        "id": "-AR2lXaGQzsJ",
        "outputId": "669e6b87-64f0-417b-9a91-337fff47fe31"
      },
      "execution_count": 161,
      "outputs": [
        {
          "output_type": "display_data",
          "data": {
            "text/plain": [
              "<Figure size 432x288 with 1 Axes>"
            ],
            "image/png": "[encoded data removed]"
          },
          "metadata": {
            "needs_background": "light"
          }
        }
      ]
    },
    {
      "cell_type": "code",
      "source": [
        "#Plotting training loss vs validation loss\n",
        "init_training_loss_values = history_init_dict['loss']\n",
        "init_val_loss_values = history_init_dict['val_loss']\n",
        "epochs = range(1, len(init_training_loss_values)+1)\n",
        "plt.plot(epochs, init_training_loss_values, label='Training loss')\n",
        "plt.plot(epochs, init_val_loss_values, label='Validation loss')\n",
        "plt.title('Training loss vs validation loss')\n",
        "plt.xlabel('Epochs')\n",
        "plt.ylabel('Loss')\n",
        "plt.legend()\n",
        "plt.show()"
      ],
      "metadata": {
        "colab": {
          "base_uri": "https://localhost:8080/",
          "height": 295
        },
        "id": "-fua-lvLrPVj",
        "outputId": "a4398af0-5e0b-4001-a67c-95229d0b59bd"
      },
      "execution_count": 162,
      "outputs": [
        {
          "output_type": "display_data",
          "data": {
            "text/plain": [
              "<Figure size 432x288 with 1 Axes>"
            ],
            "image/png": "[encoded data removed]"
          },
          "metadata": {
            "needs_background": "light"
          }
        }
      ]
    },
    {
      "cell_type": "code",
      "source": [
        "# Creating a NN model with regularistion using dropout layers and early stopping\n",
        "\n",
        "def build_reg_model():\n",
        "  model = keras.Sequential([\n",
        "      keras.layers.Dense(16, activation='relu'),\n",
        "      keras.layers.Dropout(0.2),\n",
        "      keras.layers.Dense(16, activation='relu'),\n",
        "      keras.layers.Dropout(0.2),\n",
        "      keras.layers.Dense(1, activation='sigmoid')\n",
        "  ])\n",
        "  model.compile(optimizer='rmsprop', loss='binary_crossentropy', metrics=['accuracy'])\n",
        "  return model"
      ],
      "metadata": {
        "id": "IY0sY4SkS6yE"
      },
      "execution_count": 163,
      "outputs": []
    },
    {
      "cell_type": "code",
      "source": [
        "my_final_model = build_reg_model()\n",
        "es = keras.callbacks.EarlyStopping(monitor='val_loss', mode='min', verbose=1, patience=100)\n",
        "history_final = my_final_model.fit(X_train_scaled, y_train, epochs=200, batch_size=256, validation_split=0.2, verbose=0, callbacks=[es])\n",
        "history_final_dict = history_final.history"
      ],
      "metadata": {
        "colab": {
          "base_uri": "https://localhost:8080/"
        },
        "id": "j5XWLYnwazes",
        "outputId": "f8262026-02aa-4825-daac-a0df453b6fa9"
      },
      "execution_count": 166,
      "outputs": [
        {
          "output_type": "stream",
          "name": "stdout",
          "text": [
            "Epoch 169: early stopping\n"
          ]
        }
      ]
    },
    {
      "cell_type": "code",
      "source": [
        "# Plotting validation metrics with and without regularistion\n",
        "final_val_loss_values = history_final_dict['val_loss']\n",
        "epochs = range(1, len(final_val_loss_values)+1)\n",
        "plt.plot(epochs, init_val_loss_values[:len(final_val_loss_values)], label='Initial validation loss')\n",
        "plt.plot(epochs, final_val_loss_values, label='Final validation loss')\n",
        "plt.title('Training loss vs validation loss')\n",
        "plt.xlabel('Epochs')\n",
        "plt.ylabel('Loss')\n",
        "plt.legend()\n",
        "plt.show()\n",
        "\n"
      ],
      "metadata": {
        "colab": {
          "base_uri": "https://localhost:8080/",
          "height": 295
        },
        "id": "p1F-DklAbN-A",
        "outputId": "232bdeb4-198b-49bf-dd8e-10a0d9ca7043"
      },
      "execution_count": 168,
      "outputs": [
        {
          "output_type": "display_data",
          "data": {
            "text/plain": [
              "<Figure size 432x288 with 1 Axes>"
            ],
            "image/png": "[encoded data removed]"
          },
          "metadata": {
            "needs_background": "light"
          }
        }
      ]
    },
    {
      "cell_type": "code",
      "source": [
        "# Computing the test loss and test accuracy of initial and final NN models\n",
        "initial_test_loss, initial_test_acc = my_model.evaluate(X_test_scaled, y_test, verbose = 0)\n",
        "final_test_loss, final_test_acc = my_final_model.evaluate(X_test_scaled, y_test, verbose = 0)"
      ],
      "metadata": {
        "id": "YBRuUruXNNP_"
      },
      "execution_count": 169,
      "outputs": []
    },
    {
      "cell_type": "code",
      "source": [
        "print(initial_test_acc, final_test_acc)"
      ],
      "metadata": {
        "colab": {
          "base_uri": "https://localhost:8080/"
        },
        "id": "raovKq5pNkvE",
        "outputId": "7bf93919-f19a-472c-8fad-4f52f5e60686"
      },
      "execution_count": 170,
      "outputs": [
        {
          "output_type": "stream",
          "name": "stdout",
          "text": [
            "0.7815789580345154 0.7657894492149353\n"
          ]
        }
      ]
    }
  ]
}