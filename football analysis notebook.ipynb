{
 "cells": [
  {
   "cell_type": "markdown",
   "id": "ab2cf311",
   "metadata": {},
   "source": [
    "# Premier league analysis from 2010/11 - 2019/20 seasons"
   ]
  },
  {
   "cell_type": "code",
   "execution_count": 1,
   "id": "7f8e4240",
   "metadata": {},
   "outputs": [
    {
     "name": "stdout",
     "output_type": "stream",
     "text": [
      "               Date        Referee     HomeTeam    AwayTeam FullTime Halftime  \\\n",
      "Season                                                                          \n",
      "2010/11  2010-08-14         M Dean  Aston Villa    West Ham  HomeWin  HomeWin   \n",
      "2010/11  2010-08-14         P Dowd    Blackburn     Everton  HomeWin  HomeWin   \n",
      "2010/11  2010-08-14      S Attwell       Bolton      Fulham     Draw     Draw   \n",
      "2010/11  2010-08-14  M Clattenburg      Chelsea   West Brom  HomeWin  HomeWin   \n",
      "2010/11  2010-08-14       A Taylor   Sunderland  Birmingham     Draw  HomeWin   \n",
      "\n",
      "         HomeGoals  HomeGoalsHalftime  HomeShots  HomeShotsOnTarget  ...  \\\n",
      "Season                                                               ...   \n",
      "2010/11          3                  2         23                 11  ...   \n",
      "2010/11          1                  1          7                  2  ...   \n",
      "2010/11          0                  0         13                  9  ...   \n",
      "2010/11          6                  2         18                 13  ...   \n",
      "2010/11          2                  1          6                  2  ...   \n",
      "\n",
      "         HomeYellowCards  HomeRedCards  AwayGoals  AwayGoalsHalftime  \\\n",
      "Season                                                                 \n",
      "2010/11                1             0          0                  0   \n",
      "2010/11                2             0          0                  0   \n",
      "2010/11                1             0          0                  0   \n",
      "2010/11                1             0          0                  0   \n",
      "2010/11                3             1          2                  0   \n",
      "\n",
      "         AwayShots  AwayShotsOnTarget  AwayCorners  AwayFouls  \\\n",
      "Season                                                          \n",
      "2010/11         12                  2            7         15   \n",
      "2010/11         17                 12            3         14   \n",
      "2010/11         12                  7            8         13   \n",
      "2010/11         10                  4            1         10   \n",
      "2010/11         13                  7            6         10   \n",
      "\n",
      "         AwayYellowCards  AwayRedCards  \n",
      "Season                                  \n",
      "2010/11                2             0  \n",
      "2010/11                1             0  \n",
      "2010/11                3             0  \n",
      "2010/11                0             0  \n",
      "2010/11                3             0  \n",
      "\n",
      "[5 rows x 22 columns]\n"
     ]
    }
   ],
   "source": [
    "import pandas as pd\n",
    "\n",
    "url = \"https://raw.githubusercontent.com/tara-nguyen/english-premier-league-datasets-for-10-seasons/main/epldat10seasons/epl-allseasons-matchstats.csv\"\n",
    "df = pd.read_csv(url, index_col=0)\n",
    "print(df.head(5))"
   ]
  }
 ],
 "metadata": {
  "kernelspec": {
   "display_name": "Python 3 (ipykernel)",
   "language": "python",
   "name": "python3"
  },
  "language_info": {
   "codemirror_mode": {
    "name": "ipython",
    "version": 3
   },
   "file_extension": ".py",
   "mimetype": "text/x-python",
   "name": "python",
   "nbconvert_exporter": "python",
   "pygments_lexer": "ipython3",
   "version": "3.8.8"
  }
 },
 "nbformat": 4,
 "nbformat_minor": 5
}
