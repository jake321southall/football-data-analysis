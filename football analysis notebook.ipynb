{
 "cells": [
  {
   "cell_type": "markdown",
   "id": "0bbf9cc7",
   "metadata": {},
   "source": [
    "# Premier league analysis from 2010/11 - 2019/20 seasons"
   ]
  },
  {
   "cell_type": "markdown",
   "id": "f8f7a9f7",
   "metadata": {},
   "source": [
    "This project probes different football datasets to gain insight on football trends and serves as my first project to upload on GitHub. "
   ]
  },
  {
   "cell_type": "code",
   "execution_count": 56,
   "id": "825a843a",
   "metadata": {},
   "outputs": [
    {
     "name": "stdout",
     "output_type": "stream",
     "text": [
      "Season               0\n",
      "Date                 0\n",
      "Referee              0\n",
      "HomeTeam             0\n",
      "AwayTeam             0\n",
      "FullTime             0\n",
      "Halftime             0\n",
      "HomeGoals            0\n",
      "HomeGoalsHalftime    0\n",
      "HomeShots            0\n",
      "HomeShotsOnTarget    0\n",
      "HomeCorners          0\n",
      "HomeFouls            0\n",
      "HomeYellowCards      0\n",
      "HomeRedCards         0\n",
      "AwayGoals            0\n",
      "AwayGoalsHalftime    0\n",
      "AwayShots            0\n",
      "AwayShotsOnTarget    0\n",
      "AwayCorners          0\n",
      "AwayFouls            0\n",
      "AwayYellowCards      0\n",
      "AwayRedCards         0\n",
      "dtype: int64\n",
      "       Season        Date     Referee     HomeTeam          AwayTeam FullTime  \\\n",
      "3795  2019/20  2020-07-26  M Atkinson    Leicester        Man United  AwayWin   \n",
      "3796  2019/20  2020-07-26    C Pawson     Man City           Norwich  HomeWin   \n",
      "3797  2019/20  2020-07-26    A Taylor    Newcastle         Liverpool  AwayWin   \n",
      "3798  2019/20  2020-07-26    P Bankes  Southampton  Sheffield United  HomeWin   \n",
      "3799  2019/20  2020-07-26    M Oliver     West Ham       Aston Villa     Draw   \n",
      "\n",
      "     Halftime  HomeGoals  HomeGoalsHalftime  HomeShots  HomeShotsOnTarget  \\\n",
      "3795     Draw          0                  0         14                  3   \n",
      "3796  HomeWin          5                  2         31                 10   \n",
      "3797     Draw          1                  1          3                  2   \n",
      "3798  AwayWin          3                  0         13                  4   \n",
      "3799     Draw          1                  0         10                  1   \n",
      "\n",
      "      HomeCorners  HomeFouls  HomeYellowCards  HomeRedCards  AwayGoals  \\\n",
      "3795            3         12                1             1          2   \n",
      "3796            9          7                1             0          0   \n",
      "3797            2         11                1             0          3   \n",
      "3798            9          9                0             0          1   \n",
      "3799            0         16                2             0          1   \n",
      "\n",
      "      AwayGoalsHalftime  AwayShots  AwayShotsOnTarget  AwayCorners  AwayFouls  \\\n",
      "3795                  0          7                  3            3         11   \n",
      "3796                  0          5                  4            0          4   \n",
      "3797                  1         14                  6            4          5   \n",
      "3798                  1          5                  3            1         16   \n",
      "3799                  0         13                  4            7         13   \n",
      "\n",
      "      AwayYellowCards  AwayRedCards  \n",
      "3795                4             0  \n",
      "3796                1             0  \n",
      "3797                0             0  \n",
      "3798                1             0  \n",
      "3799                1             0  \n"
     ]
    }
   ],
   "source": [
    "import pandas as pd\n",
    "import matplotlib.pyplot as plt\n",
    "\n",
    "pd.set_option('display.max_columns', None)\n",
    "pd.set_option('display.min_rows', 100)\n",
    "\n",
    "url = \"https://raw.githubusercontent.com/tara-nguyen/english-premier-league-datasets-for-10-seasons/main/epldat10seasons/epl-allseasons-matchstats.csv\"\n",
    "df = pd.read_csv(url)\n",
    "print(df.isna().sum())\n",
    "print(df.tail(5))"
   ]
  },
  {
   "cell_type": "markdown",
   "id": "e23f8220",
   "metadata": {},
   "source": [
    "Next we find the percentage of games where a team has been two goals up by half time but did not go on to win. Columns we need are 'HomeGoalsHalftime', 'AwayGoalsHalftime', 'Halftime', 'Fulltime'. We will isolate the observations where 'HomeGoalsHalftime' and 'AwayGoalsHalftime' differ by 2 or more goals but 'Halftime' is not equal to 'Fulltime'. We will store these observations in a dataframe called 'two_up_not_win_df'. "
   ]
  },
  {
   "cell_type": "code",
   "execution_count": 36,
   "id": "dbf1e6d5",
   "metadata": {},
   "outputs": [],
   "source": [
    "#df.dtypes\n",
    "#df.isna().sum()"
   ]
  },
  {
   "cell_type": "code",
   "execution_count": 31,
   "id": "f200694d",
   "metadata": {},
   "outputs": [
    {
     "data": {
      "text/html": [
       "<div>\n",
       "<style scoped>\n",
       "    .dataframe tbody tr th:only-of-type {\n",
       "        vertical-align: middle;\n",
       "    }\n",
       "\n",
       "    .dataframe tbody tr th {\n",
       "        vertical-align: top;\n",
       "    }\n",
       "\n",
       "    .dataframe thead th {\n",
       "        text-align: right;\n",
       "    }\n",
       "</style>\n",
       "<table border=\"1\" class=\"dataframe\">\n",
       "  <thead>\n",
       "    <tr style=\"text-align: right;\">\n",
       "      <th></th>\n",
       "      <th>HomeGoalsHalftime</th>\n",
       "      <th>AwayGoalsHalftime</th>\n",
       "    </tr>\n",
       "  </thead>\n",
       "  <tbody>\n",
       "    <tr>\n",
       "      <th>0</th>\n",
       "      <td>2</td>\n",
       "      <td>0</td>\n",
       "    </tr>\n",
       "    <tr>\n",
       "      <th>3</th>\n",
       "      <td>2</td>\n",
       "      <td>0</td>\n",
       "    </tr>\n",
       "    <tr>\n",
       "      <th>6</th>\n",
       "      <td>0</td>\n",
       "      <td>3</td>\n",
       "    </tr>\n",
       "    <tr>\n",
       "      <th>7</th>\n",
       "      <td>2</td>\n",
       "      <td>0</td>\n",
       "    </tr>\n",
       "    <tr>\n",
       "      <th>9</th>\n",
       "      <td>2</td>\n",
       "      <td>0</td>\n",
       "    </tr>\n",
       "  </tbody>\n",
       "</table>\n",
       "</div>"
      ],
      "text/plain": [
       "   HomeGoalsHalftime  AwayGoalsHalftime\n",
       "0                  2                  0\n",
       "3                  2                  0\n",
       "6                  0                  3\n",
       "7                  2                  0\n",
       "9                  2                  0"
      ]
     },
     "execution_count": 31,
     "metadata": {},
     "output_type": "execute_result"
    }
   ],
   "source": [
    "two_up_at_halftime_df = df[(df.HomeGoalsHalftime >= df.AwayGoalsHalftime + 2) | \n",
    "                           (df.HomeGoalsHalftime + 2 <= df.AwayGoalsHalftime)]\n",
    "\n",
    "two_up_at_halftime_df[['HomeGoalsHalftime', 'AwayGoalsHalftime']].head()"
   ]
  },
  {
   "cell_type": "code",
   "execution_count": 38,
   "id": "0deab5cc",
   "metadata": {},
   "outputs": [
    {
     "data": {
      "text/html": [
       "<div>\n",
       "<style scoped>\n",
       "    .dataframe tbody tr th:only-of-type {\n",
       "        vertical-align: middle;\n",
       "    }\n",
       "\n",
       "    .dataframe tbody tr th {\n",
       "        vertical-align: top;\n",
       "    }\n",
       "\n",
       "    .dataframe thead th {\n",
       "        text-align: right;\n",
       "    }\n",
       "</style>\n",
       "<table border=\"1\" class=\"dataframe\">\n",
       "  <thead>\n",
       "    <tr style=\"text-align: right;\">\n",
       "      <th></th>\n",
       "      <th>FullTime</th>\n",
       "      <th>Halftime</th>\n",
       "      <th>HomeGoalsHalftime</th>\n",
       "      <th>AwayGoalsHalftime</th>\n",
       "      <th>HomeGoals</th>\n",
       "      <th>AwayGoals</th>\n",
       "    </tr>\n",
       "  </thead>\n",
       "  <tbody>\n",
       "    <tr>\n",
       "      <th>74</th>\n",
       "      <td>Draw</td>\n",
       "      <td>HomeWin</td>\n",
       "      <td>2</td>\n",
       "      <td>0</td>\n",
       "      <td>2</td>\n",
       "      <td>2</td>\n",
       "    </tr>\n",
       "    <tr>\n",
       "      <th>75</th>\n",
       "      <td>Draw</td>\n",
       "      <td>AwayWin</td>\n",
       "      <td>0</td>\n",
       "      <td>2</td>\n",
       "      <td>2</td>\n",
       "      <td>2</td>\n",
       "    </tr>\n",
       "    <tr>\n",
       "      <th>130</th>\n",
       "      <td>AwayWin</td>\n",
       "      <td>HomeWin</td>\n",
       "      <td>2</td>\n",
       "      <td>0</td>\n",
       "      <td>2</td>\n",
       "      <td>3</td>\n",
       "    </tr>\n",
       "    <tr>\n",
       "      <th>231</th>\n",
       "      <td>AwayWin</td>\n",
       "      <td>HomeWin</td>\n",
       "      <td>2</td>\n",
       "      <td>0</td>\n",
       "      <td>2</td>\n",
       "      <td>3</td>\n",
       "    </tr>\n",
       "    <tr>\n",
       "      <th>247</th>\n",
       "      <td>Draw</td>\n",
       "      <td>AwayWin</td>\n",
       "      <td>0</td>\n",
       "      <td>4</td>\n",
       "      <td>4</td>\n",
       "      <td>4</td>\n",
       "    </tr>\n",
       "    <tr>\n",
       "      <th>261</th>\n",
       "      <td>Draw</td>\n",
       "      <td>HomeWin</td>\n",
       "      <td>3</td>\n",
       "      <td>0</td>\n",
       "      <td>3</td>\n",
       "      <td>3</td>\n",
       "    </tr>\n",
       "    <tr>\n",
       "      <th>289</th>\n",
       "      <td>Draw</td>\n",
       "      <td>AwayWin</td>\n",
       "      <td>0</td>\n",
       "      <td>2</td>\n",
       "      <td>2</td>\n",
       "      <td>2</td>\n",
       "    </tr>\n",
       "    <tr>\n",
       "      <th>304</th>\n",
       "      <td>AwayWin</td>\n",
       "      <td>HomeWin</td>\n",
       "      <td>2</td>\n",
       "      <td>0</td>\n",
       "      <td>2</td>\n",
       "      <td>4</td>\n",
       "    </tr>\n",
       "    <tr>\n",
       "      <th>368</th>\n",
       "      <td>HomeWin</td>\n",
       "      <td>AwayWin</td>\n",
       "      <td>0</td>\n",
       "      <td>2</td>\n",
       "      <td>3</td>\n",
       "      <td>2</td>\n",
       "    </tr>\n",
       "    <tr>\n",
       "      <th>375</th>\n",
       "      <td>Draw</td>\n",
       "      <td>HomeWin</td>\n",
       "      <td>2</td>\n",
       "      <td>0</td>\n",
       "      <td>3</td>\n",
       "      <td>3</td>\n",
       "    </tr>\n",
       "  </tbody>\n",
       "</table>\n",
       "</div>"
      ],
      "text/plain": [
       "    FullTime Halftime  HomeGoalsHalftime  AwayGoalsHalftime  HomeGoals  \\\n",
       "74      Draw  HomeWin                  2                  0          2   \n",
       "75      Draw  AwayWin                  0                  2          2   \n",
       "130  AwayWin  HomeWin                  2                  0          2   \n",
       "231  AwayWin  HomeWin                  2                  0          2   \n",
       "247     Draw  AwayWin                  0                  4          4   \n",
       "261     Draw  HomeWin                  3                  0          3   \n",
       "289     Draw  AwayWin                  0                  2          2   \n",
       "304  AwayWin  HomeWin                  2                  0          2   \n",
       "368  HomeWin  AwayWin                  0                  2          3   \n",
       "375     Draw  HomeWin                  2                  0          3   \n",
       "\n",
       "     AwayGoals  \n",
       "74           2  \n",
       "75           2  \n",
       "130          3  \n",
       "231          3  \n",
       "247          4  \n",
       "261          3  \n",
       "289          2  \n",
       "304          4  \n",
       "368          2  \n",
       "375          3  "
      ]
     },
     "execution_count": 38,
     "metadata": {},
     "output_type": "execute_result"
    }
   ],
   "source": [
    "two_up_not_win_df = two_up_at_halftime_df[two_up_at_halftime_df.Halftime != two_up_at_halftime_df.FullTime]\n",
    "\n",
    "two_up_not_win_df[['FullTime', 'Halftime', 'HomeGoalsHalftime', 'AwayGoalsHalftime', 'HomeGoals', 'AwayGoals']].head(10)"
   ]
  },
  {
   "cell_type": "code",
   "execution_count": 52,
   "id": "425ca039",
   "metadata": {},
   "outputs": [
    {
     "name": "stdout",
     "output_type": "stream",
     "text": [
      "The percentage of games where a team has been two goals up at half time is 0.1803%.\n",
      "The percentage of games where a team has not won given that they had been two goals up at half time is 0.0686%.\n",
      "The percentage of games where a team had been two goals up at half time but did not win is 0.0124%.\n"
     ]
    }
   ],
   "source": [
    "percentage_1 = round(len(two_up_not_win_df.index) / len(df.index), 4)\n",
    "percentage_2 = round(len(two_up_at_halftime_df.index) / len(df.index), 4)\n",
    "percentage_3 = round(len(two_up_not_win_df.index) / len(two_up_at_halftime_df.index), 4)\n",
    "\n",
    "print(f\"The percentage of games where a team has been two goals up at half time is {percentage_2}%.\")\n",
    "print(f\"The percentage of games where a team has not won given that they had been two goals up at half time is {percentage_3}%.\")\n",
    "print(f\"The percentage of games where a team had been two goals up at half time but did not win is {percentage_1}%.\")"
   ]
  },
  {
   "cell_type": "markdown",
   "id": "9df8a024",
   "metadata": {},
   "source": [
    "The last percentage is smaller than the true percentage of games played where a team has been goals up at any time but did not go on to win the game."
   ]
  },
  {
   "cell_type": "markdown",
   "id": "7eb4bbb2",
   "metadata": {},
   "source": [
    "### Finding these percentages for each season"
   ]
  },
  {
   "cell_type": "code",
   "execution_count": 53,
   "id": "03d6771b",
   "metadata": {},
   "outputs": [
    {
     "name": "stdout",
     "output_type": "stream",
     "text": [
      "['2010/11' '2011/12' '2012/13' '2013/14' '2014/15' '2015/16' '2016/17'\n",
      " '2017/18' '2018/19' '2019/20']\n"
     ]
    }
   ],
   "source": [
    "season_list = df.Season.unique()\n",
    "print(season_list)"
   ]
  },
  {
   "cell_type": "code",
   "execution_count": 54,
   "id": "ad3bfb1a",
   "metadata": {},
   "outputs": [
    {
     "data": {
      "text/plain": [
       "[0.0263,\n",
       " 0.0079,\n",
       " 0.0132,\n",
       " 0.0079,\n",
       " 0.0105,\n",
       " 0.0184,\n",
       " 0.0079,\n",
       " 0.0132,\n",
       " 0.0079,\n",
       " 0.0105]"
      ]
     },
     "execution_count": 54,
     "metadata": {},
     "output_type": "execute_result"
    }
   ],
   "source": [
    "two_up_not_win_percentage_list_for_each_season = []\n",
    "for season in season_list:\n",
    "    percentage = round(len(two_up_not_win_df[two_up_not_win_df.Season == season].index) / len(df[df.Season == season].index), 4)\n",
    "    two_up_not_win_percentage_list_for_each_season.append(percentage)\n",
    "\n",
    "two_up_not_win_percentage_list_for_each_season"
   ]
  },
  {
   "cell_type": "code",
   "execution_count": 59,
   "id": "82fb81fa",
   "metadata": {},
   "outputs": [
    {
     "data": {
      "image/png": "[encoded data removed]",
      "text/plain": [
       "<Figure size 432x288 with 1 Axes>"
      ]
     },
     "metadata": {
      "needs_background": "light"
     },
     "output_type": "display_data"
    }
   ],
   "source": [
    "plt.plot(two_up_not_win_percentage_list_for_each_season)\n",
    "plt.title('Plot showing percentage of games where a team was 2 goals up at half time but did not win, for ea')\n",
    "plt.xlabel('2010/11 to 2019/20 seasons')\n",
    "plt.show()"
   ]
  },
  {
   "cell_type": "code",
   "execution_count": null,
   "id": "4e84ba01",
   "metadata": {},
   "outputs": [],
   "source": []
  }
 ],
 "metadata": {
  "kernelspec": {
   "display_name": "Python 3 (ipykernel)",
   "language": "python",
   "name": "python3"
  },
  "language_info": {
   "codemirror_mode": {
    "name": "ipython",
    "version": 3
   },
   "file_extension": ".py",
   "mimetype": "text/x-python",
   "name": "python",
   "nbconvert_exporter": "python",
   "pygments_lexer": "ipython3",
   "version": "3.8.8"
  }
 },
 "nbformat": 4,
 "nbformat_minor": 5
}
