{
  "cells": [
    {
      "cell_type": "markdown",
      "metadata": {
        "id": "view-in-github",
        "colab_type": "text"
      },
      "source": [
        "<a href=\"https://colab.research.google.com/github/jake321southall/football-data-analysis/blob/main/Football_GBM.ipynb\" target=\"_parent\"><img src=\"https://colab.research.google.com/assets/colab-badge.svg\" alt=\"Open In Colab\"/></a>"
      ]
    },
    {
      "cell_type": "code",
      "execution_count": 7,
      "metadata": {
        "id": "AuI41jvkBk6j"
      },
      "outputs": [],
      "source": [
        "import lightgbm as lgb\n",
        "import numpy as np\n",
        "import pandas as pd\n",
        "from sklearn.model_selection import GridSearchCV, train_test_split"
      ]
    },
    {
      "cell_type": "code",
      "execution_count": 8,
      "metadata": {
        "id": "Na9_O8h2DFZx"
      },
      "outputs": [],
      "source": [
        "url = \"https://raw.githubusercontent.com/tara-nguyen/english-premier-league-datasets-for-10-seasons/main/epldat10seasons/epl-allseasons-matchstats.csv\"\n",
        "df = pd.read_csv(url)\n",
        "\n",
        "#Let's drop the columns we won't use\n",
        "df.drop(columns = ['Referee', 'HomeTeam', 'AwayTeam'], inplace=True)\n",
        "df = pd.get_dummies(df, columns = ['FullTime'])\n",
        "df_num = df.drop(columns = ['Season', 'Date', 'Halftime'])\n",
        "df_homewin = df_num.drop(columns = ['HomeGoals', 'AwayGoals', 'FullTime_Draw', 'FullTime_AwayWin'])\n",
        "df_homewin.drop(index=2070, inplace=True)\n",
        "\n",
        "X = df_homewin.iloc[:, 0:14]\n",
        "y = df_homewin.iloc[:,-1]\n",
        "\n",
        "X_train, X_test, y_train, y_test = train_test_split(X, y, test_size=0.2, random_state = 0)\n",
        "\n",
        "X_train_init, X_val_init, y_train_init, y_val_init = train_test_split(X_train, y_train, test_size=0.2, random_state=0)\n",
        "\n"
      ]
    },
    {
      "cell_type": "code",
      "execution_count": 9,
      "metadata": {
        "colab": {
          "base_uri": "https://localhost:8080/"
        },
        "id": "q9HtfDLqEkHT",
        "outputId": "2d3ddbeb-4619-4a0b-dea8-2a3016a8c255"
      },
      "outputs": [
        {
          "output_type": "stream",
          "name": "stdout",
          "text": [
            "The percentage of correctly predicted games of inital model in training set is is 96.38009%.\n",
            "The percentage of correctly predicted games of inital model in validation set is is 72.36842%.\n"
          ]
        }
      ],
      "source": [
        "#creating inital model\n",
        "gbm_init = lgb.LGBMClassifier()\n",
        "gbm_init.fit(X_train_init, y_train_init)\n",
        "\n",
        "print(f'The percentage of correctly predicted games of inital model in training set is is {round(100*gbm_init.score(X_train_init, y_train_init), 5)}%.')\n",
        "print(f'The percentage of correctly predicted games of inital model in validation set is is {round(100*gbm_init.score(X_val_init, y_val_init), 5)}%.')"
      ]
    },
    {
      "cell_type": "code",
      "execution_count": 10,
      "metadata": {
        "colab": {
          "base_uri": "https://localhost:8080/"
        },
        "id": "YeatuQZ1NLk4",
        "outputId": "1c2c84bc-b69f-4a74-d4ad-9ec2b409096c"
      },
      "outputs": [
        {
          "output_type": "stream",
          "name": "stdout",
          "text": [
            "The percentage of correctly predicted games of inital model is 73.55263%.\n"
          ]
        }
      ],
      "source": [
        "y_pred_init = gbm_init.score(X_test, y_test)\n",
        "print(f'The percentage of correctly predicted games of inital model is {round(100*y_pred_init, 5)}%.')"
      ]
    },
    {
      "cell_type": "markdown",
      "metadata": {
        "id": "z11TXS3cUILE"
      },
      "source": [
        "We are overfitting!\n"
      ]
    },
    {
      "cell_type": "code",
      "execution_count": 11,
      "metadata": {
        "id": "xxw1wXnuQmfN",
        "colab": {
          "base_uri": "https://localhost:8080/"
        },
        "outputId": "d53be411-0d7e-4e6e-90d7-0d9a61088dc3"
      },
      "outputs": [
        {
          "output_type": "stream",
          "name": "stdout",
          "text": [
            "Best parameters found by grid search are: {'bagging_fraction': 0.4, 'lambda_l1': 0.31622776601683794, 'max_depth': 2, 'n_estimators': 50, 'num_leaves': 3}\n",
            "Best score found by grid search are: 0.7792014069828036\n"
          ]
        }
      ],
      "source": [
        "#creating final model with hyperparameter tuning\n",
        "estimator = lgb.LGBMClassifier()\n",
        "\n",
        "param_grid = {\n",
        "    'lambda_l1': np.logspace(-1,1,5),\n",
        "    'num_leaves': np.arange(3,24,3),\n",
        "    'max_depth': np.arange(2,6),\n",
        "    'bagging_fraction': [0.4,0.5,0.6],\n",
        "    'n_estimators': [50, 75,100],\n",
        "}\n",
        "\n",
        "cv = GridSearchCV(estimator, param_grid, cv=10)\n",
        "cv.fit(X_train, y_train)\n",
        "\n",
        "print(f'Best parameters found by grid search are: {cv.best_params_}')\n",
        "print(f'Best score found by grid search are: {cv.best_score_}')"
      ]
    },
    {
      "cell_type": "code",
      "execution_count": 12,
      "metadata": {
        "id": "N5aMQuYDaJvz",
        "colab": {
          "base_uri": "https://localhost:8080/"
        },
        "outputId": "5dfe790e-612e-482b-cd31-37b89e4fa38e"
      },
      "outputs": [
        {
          "output_type": "stream",
          "name": "stdout",
          "text": [
            "The percentage of correctly predicted games of lightgbm cv model on test set is is 76.57895%.\n"
          ]
        }
      ],
      "source": [
        "y_pred_cv = cv.score(X_test, y_test)\n",
        "print(f'The percentage of correctly predicted games of lightgbm cv model on test set is is {round(100*y_pred_cv, 5)}%.')\n"
      ]
    }
  ],
  "metadata": {
    "colab": {
      "provenance": [],
      "authorship_tag": "ABX9TyPxWbNZ9l/EkGhEfISLn5Sa",
      "include_colab_link": true
    },
    "gpuClass": "standard",
    "kernelspec": {
      "display_name": "Python 3",
      "name": "python3"
    },
    "language_info": {
      "name": "python"
    }
  },
  "nbformat": 4,
  "nbformat_minor": 0
}